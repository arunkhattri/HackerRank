{
 "cells": [
  {
   "cell_type": "markdown",
   "metadata": {},
   "source": [
    "# Encryption\n",
    "Ref: https://www.hackerrank.com/challenges/encryption/problem\n",
    "\n"
   ]
  },
  {
   "cell_type": "markdown",
   "metadata": {},
   "source": [
    "1. remove spaces from the text.\n",
    "2. write characters into a grid, whose rows and columns have the following constraints:\n",
    "\n",
    "    a) $\\lfloor{\\sqrt{L}}\\rfloor \\leq \\text{row} \\leq \\text{column} \\leq \\lceil{\\sqrt{L}}\\rceil$"
   ]
  },
  {
   "cell_type": "code",
   "execution_count": 66,
   "metadata": {},
   "outputs": [],
   "source": [
    "import math"
   ]
  },
  {
   "cell_type": "code",
   "execution_count": 1,
   "metadata": {},
   "outputs": [],
   "source": [
    "s = \"if man was meant to stay on the ground god would have given us roots\""
   ]
  },
  {
   "cell_type": "code",
   "execution_count": 64,
   "metadata": {},
   "outputs": [],
   "source": [
    "def encrypt(res, c, f):\n",
    "    result = [\"\" for _ in range(c)]\n",
    "    for i in range(c):\n",
    "        for j in range(c):\n",
    "            try:\n",
    "                result[j] += res[i][j]\n",
    "            except IndexError:\n",
    "                pass\n",
    "    return \" \".join(result)"
   ]
  },
  {
   "cell_type": "code",
   "execution_count": 57,
   "metadata": {},
   "outputs": [],
   "source": [
    "def encryption(s):\n",
    "    temp = s.replace(\" \", \"\")\n",
    "    L = len(temp)\n",
    "    f = math.floor(math.sqrt(L))\n",
    "    c = math.ceil(math.sqrt(L))\n",
    "    if f * c >= L:\n",
    "        res = [temp[i:i+c] for i in range(0, L, c)]\n",
    "    else:\n",
    "        f += 1\n",
    "        res = [temp[i:i+c] for i in range(0, L, c)]\n",
    "    print(f\"c: {c}; f: {f}\\nres: {res}\")\n",
    "    return encrypt(res, c, f)"
   ]
  },
  {
   "cell_type": "code",
   "execution_count": 67,
   "metadata": {},
   "outputs": [
    {
     "name": "stdout",
     "output_type": "stream",
     "text": [
      "c: 8; f: 7\n",
      "res: ['ifmanwas', 'meanttos', 'tayonthe', 'groundgo', 'dwouldha', 'vegivenu', 'sroots']\n"
     ]
    },
    {
     "data": {
      "text/plain": [
       "'imtgdvs fearwer mayoogo anouuio ntnnlvt wttddes aohghn sseoau'"
      ]
     },
     "execution_count": 67,
     "metadata": {},
     "output_type": "execute_result"
    }
   ],
   "source": [
    "encryption(s)"
   ]
  },
  {
   "cell_type": "code",
   "execution_count": null,
   "metadata": {},
   "outputs": [],
   "source": []
  }
 ],
 "metadata": {
  "kernelspec": {
   "display_name": "Python 3",
   "language": "python",
   "name": "python3"
  },
  "language_info": {
   "codemirror_mode": {
    "name": "ipython",
    "version": 3
   },
   "file_extension": ".py",
   "mimetype": "text/x-python",
   "name": "python",
   "nbconvert_exporter": "python",
   "pygments_lexer": "ipython3",
   "version": "3.7.3"
  }
 },
 "nbformat": 4,
 "nbformat_minor": 2
}
