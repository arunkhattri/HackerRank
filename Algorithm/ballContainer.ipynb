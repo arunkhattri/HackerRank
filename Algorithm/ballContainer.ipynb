{
 "cells": [
  {
   "cell_type": "code",
   "execution_count": 9,
   "metadata": {},
   "outputs": [],
   "source": [
    "def swap_balls(n, mat):\n",
    "    box_totals = {'box_' + str(i): sum(mat[i]) for i in range(len(mat))}\n",
    "    ball_type_count = {\"type_\" + str(i)+ \"_count\":0 for i in range(n)}\n",
    "    for i in range(n):\n",
    "        for j in range(n):\n",
    "            # print(f\"i = {i}; j = {j}\")\n",
    "            var = \"type_\" + str(j)+ \"_count\"\n",
    "            ball_type_count[var] += mat[i][j]\n",
    "    box = sorted([i for i in box_totals.values()])\n",
    "    ball = sorted([i for i in ball_type_count.values()])\n",
    "    if box == ball:\n",
    "        print(\"Possible\")\n",
    "    else:\n",
    "        print(\"Impossible\")"
   ]
  },
  {
   "cell_type": "code",
   "execution_count": 32,
   "metadata": {},
   "outputs": [
    {
     "name": "stdout",
     "output_type": "stream",
     "text": [
      "Impossible\n"
     ]
    }
   ],
   "source": [
    "swap_balls(2, container)"
   ]
  },
  {
   "cell_type": "code",
   "execution_count": 10,
   "metadata": {},
   "outputs": [
    {
     "name": "stdout",
     "output_type": "stream",
     "text": [
      "Impossible\n"
     ]
    }
   ],
   "source": [
    "n = 3\n",
    "mat = [[1, 3, 1], [2, 1, 2], [3, 3, 3]]\n",
    "swap_balls(n, mat)"
   ]
  },
  {
   "cell_type": "code",
   "execution_count": 11,
   "metadata": {},
   "outputs": [
    {
     "name": "stdout",
     "output_type": "stream",
     "text": [
      "Possible\n"
     ]
    }
   ],
   "source": [
    "n = 3\n",
    "mat = [[0, 2, 1], [1,1,1], [2, 0, 0]]\n",
    "swap_balls(n, mat)"
   ]
  }
 ],
 "metadata": {
  "kernelspec": {
   "display_name": "Python 3",
   "language": "python",
   "name": "python3"
  },
  "language_info": {
   "codemirror_mode": {
    "name": "ipython",
    "version": 3
   },
   "file_extension": ".py",
   "mimetype": "text/x-python",
   "name": "python",
   "nbconvert_exporter": "python",
   "pygments_lexer": "ipython3",
   "version": "3.7.3"
  }
 },
 "nbformat": 4,
 "nbformat_minor": 2
}
